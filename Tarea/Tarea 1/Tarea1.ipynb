{
 "cells": [
  {
   "cell_type": "markdown",
   "id": "062d4d7a",
   "metadata": {},
   "source": [
    "## Bienvenidos a Titanic Spaceship\n",
    "\n",
    "Titanic Spaceship es un dataset de ejemplo creado para trabajar modelos de machine learning.  El dataset tiene diferentes columnas que informan practicamente la persona de que planeta se originio y hacia donde se dirigio.  El resultado es si la persona fue transportada o no."
   ]
  },
  {
   "cell_type": "markdown",
   "id": "c26f5603",
   "metadata": {},
   "source": [
    "##### Importacion de librerias\n",
    "\n",
    "Importe las librerias iniciales para procesamiento de datos y de descompresion de archivos"
   ]
  },
  {
   "cell_type": "code",
   "execution_count": 1,
   "id": "6087cd49",
   "metadata": {},
   "outputs": [],
   "source": [
    "#importe la librerias pandas como pd\n",
    "?\n",
    "#importe ZipFile de la libreria zipfile\n",
    "?"
   ]
  },
  {
   "cell_type": "code",
   "execution_count": 2,
   "id": "ad9b8d60",
   "metadata": {},
   "outputs": [
    {
     "data": {
      "text/plain": [
       "['.ipynb_checkpoints',\n",
       " 'spaceship-titanic.zip',\n",
       " 'test.csv',\n",
       " 'Titanic Spaceship - Tarea 1.ipynb',\n",
       " 'train.csv']"
      ]
     },
     "execution_count": 2,
     "metadata": {},
     "output_type": "execute_result"
    }
   ],
   "source": [
    "# observamos los archivos que estan en esta carpeta\n",
    "import os\n",
    "\n",
    "os.listdir()"
   ]
  },
  {
   "cell_type": "markdown",
   "id": "0870223d",
   "metadata": {},
   "source": [
    "Preparamos para ud una funcion para descomprimir el dataset que esta en la carpeta"
   ]
  },
  {
   "cell_type": "code",
   "execution_count": 3,
   "id": "da08f890",
   "metadata": {},
   "outputs": [],
   "source": [
    "# funcion utilitaria para extraer data\n",
    "def unzip_data(path):\n",
    "    with ZipFile(path, 'r') as zipObj:\n",
    "        zipObj.extractall()"
   ]
  },
  {
   "cell_type": "markdown",
   "id": "2e3a83e4",
   "metadata": {},
   "source": [
    "Llamando a la funcion anterior e ingresando el archivo zip los podemos descomprimir programaticamente"
   ]
  },
  {
   "cell_type": "code",
   "execution_count": 4,
   "id": "1d74918b",
   "metadata": {},
   "outputs": [],
   "source": [
    "# llame la función anterior y extraiga el archivo spaceship-titanic\n",
    "?"
   ]
  },
  {
   "cell_type": "markdown",
   "id": "e8d4b085",
   "metadata": {},
   "source": [
    "Ahora utilizando la función read_csv podemos leer tanto el archivo de training como el de test set"
   ]
  },
  {
   "cell_type": "code",
   "execution_count": 5,
   "id": "0776a836",
   "metadata": {},
   "outputs": [],
   "source": [
    "# utilice read_csv de pandas para leer los archivos extraidos\n",
    "train_ds = ?\n",
    "test_ds = ?"
   ]
  },
  {
   "cell_type": "markdown",
   "id": "8c8baee6",
   "metadata": {},
   "source": [
    "Observamos las primeras 5 líneas del archivo de training"
   ]
  },
  {
   "cell_type": "code",
   "execution_count": 6,
   "id": "cfb3ae88",
   "metadata": {},
   "outputs": [
    {
     "data": {
      "text/html": [
       "<div>\n",
       "<style scoped>\n",
       "    .dataframe tbody tr th:only-of-type {\n",
       "        vertical-align: middle;\n",
       "    }\n",
       "\n",
       "    .dataframe tbody tr th {\n",
       "        vertical-align: top;\n",
       "    }\n",
       "\n",
       "    .dataframe thead th {\n",
       "        text-align: right;\n",
       "    }\n",
       "</style>\n",
       "<table border=\"1\" class=\"dataframe\">\n",
       "  <thead>\n",
       "    <tr style=\"text-align: right;\">\n",
       "      <th></th>\n",
       "      <th>PassengerId</th>\n",
       "      <th>HomePlanet</th>\n",
       "      <th>CryoSleep</th>\n",
       "      <th>Cabin</th>\n",
       "      <th>Destination</th>\n",
       "      <th>Age</th>\n",
       "      <th>VIP</th>\n",
       "      <th>RoomService</th>\n",
       "      <th>FoodCourt</th>\n",
       "      <th>ShoppingMall</th>\n",
       "      <th>Spa</th>\n",
       "      <th>VRDeck</th>\n",
       "      <th>Name</th>\n",
       "      <th>Transported</th>\n",
       "    </tr>\n",
       "  </thead>\n",
       "  <tbody>\n",
       "    <tr>\n",
       "      <th>0</th>\n",
       "      <td>0001_01</td>\n",
       "      <td>Europa</td>\n",
       "      <td>False</td>\n",
       "      <td>B/0/P</td>\n",
       "      <td>TRAPPIST-1e</td>\n",
       "      <td>39.0</td>\n",
       "      <td>False</td>\n",
       "      <td>0.0</td>\n",
       "      <td>0.0</td>\n",
       "      <td>0.0</td>\n",
       "      <td>0.0</td>\n",
       "      <td>0.0</td>\n",
       "      <td>Maham Ofracculy</td>\n",
       "      <td>False</td>\n",
       "    </tr>\n",
       "    <tr>\n",
       "      <th>1</th>\n",
       "      <td>0002_01</td>\n",
       "      <td>Earth</td>\n",
       "      <td>False</td>\n",
       "      <td>F/0/S</td>\n",
       "      <td>TRAPPIST-1e</td>\n",
       "      <td>24.0</td>\n",
       "      <td>False</td>\n",
       "      <td>109.0</td>\n",
       "      <td>9.0</td>\n",
       "      <td>25.0</td>\n",
       "      <td>549.0</td>\n",
       "      <td>44.0</td>\n",
       "      <td>Juanna Vines</td>\n",
       "      <td>True</td>\n",
       "    </tr>\n",
       "    <tr>\n",
       "      <th>2</th>\n",
       "      <td>0003_01</td>\n",
       "      <td>Europa</td>\n",
       "      <td>False</td>\n",
       "      <td>A/0/S</td>\n",
       "      <td>TRAPPIST-1e</td>\n",
       "      <td>58.0</td>\n",
       "      <td>True</td>\n",
       "      <td>43.0</td>\n",
       "      <td>3576.0</td>\n",
       "      <td>0.0</td>\n",
       "      <td>6715.0</td>\n",
       "      <td>49.0</td>\n",
       "      <td>Altark Susent</td>\n",
       "      <td>False</td>\n",
       "    </tr>\n",
       "    <tr>\n",
       "      <th>3</th>\n",
       "      <td>0003_02</td>\n",
       "      <td>Europa</td>\n",
       "      <td>False</td>\n",
       "      <td>A/0/S</td>\n",
       "      <td>TRAPPIST-1e</td>\n",
       "      <td>33.0</td>\n",
       "      <td>False</td>\n",
       "      <td>0.0</td>\n",
       "      <td>1283.0</td>\n",
       "      <td>371.0</td>\n",
       "      <td>3329.0</td>\n",
       "      <td>193.0</td>\n",
       "      <td>Solam Susent</td>\n",
       "      <td>False</td>\n",
       "    </tr>\n",
       "    <tr>\n",
       "      <th>4</th>\n",
       "      <td>0004_01</td>\n",
       "      <td>Earth</td>\n",
       "      <td>False</td>\n",
       "      <td>F/1/S</td>\n",
       "      <td>TRAPPIST-1e</td>\n",
       "      <td>16.0</td>\n",
       "      <td>False</td>\n",
       "      <td>303.0</td>\n",
       "      <td>70.0</td>\n",
       "      <td>151.0</td>\n",
       "      <td>565.0</td>\n",
       "      <td>2.0</td>\n",
       "      <td>Willy Santantines</td>\n",
       "      <td>True</td>\n",
       "    </tr>\n",
       "  </tbody>\n",
       "</table>\n",
       "</div>"
      ],
      "text/plain": [
       "  PassengerId HomePlanet CryoSleep  Cabin  Destination   Age    VIP  \\\n",
       "0     0001_01     Europa     False  B/0/P  TRAPPIST-1e  39.0  False   \n",
       "1     0002_01      Earth     False  F/0/S  TRAPPIST-1e  24.0  False   \n",
       "2     0003_01     Europa     False  A/0/S  TRAPPIST-1e  58.0   True   \n",
       "3     0003_02     Europa     False  A/0/S  TRAPPIST-1e  33.0  False   \n",
       "4     0004_01      Earth     False  F/1/S  TRAPPIST-1e  16.0  False   \n",
       "\n",
       "   RoomService  FoodCourt  ShoppingMall     Spa  VRDeck               Name  \\\n",
       "0          0.0        0.0           0.0     0.0     0.0    Maham Ofracculy   \n",
       "1        109.0        9.0          25.0   549.0    44.0       Juanna Vines   \n",
       "2         43.0     3576.0           0.0  6715.0    49.0      Altark Susent   \n",
       "3          0.0     1283.0         371.0  3329.0   193.0       Solam Susent   \n",
       "4        303.0       70.0         151.0   565.0     2.0  Willy Santantines   \n",
       "\n",
       "   Transported  \n",
       "0        False  \n",
       "1         True  \n",
       "2        False  \n",
       "3        False  \n",
       "4         True  "
      ]
     },
     "execution_count": 6,
     "metadata": {},
     "output_type": "execute_result"
    }
   ],
   "source": [
    "# con pandas, observe los primeros 5 datos con la funcion head()\n",
    "?"
   ]
  },
  {
   "cell_type": "markdown",
   "id": "11642e11",
   "metadata": {},
   "source": [
    "Observamos las primeras 5 lineas del archivo de test set.  Note que la columna **Transported** no esta en esta parte, es la columna que vamos a predecir, este caso es especial debido a que este dataset es de un concurso de kaggle."
   ]
  },
  {
   "cell_type": "code",
   "execution_count": 7,
   "id": "51ca1ee5",
   "metadata": {},
   "outputs": [
    {
     "data": {
      "text/html": [
       "<div>\n",
       "<style scoped>\n",
       "    .dataframe tbody tr th:only-of-type {\n",
       "        vertical-align: middle;\n",
       "    }\n",
       "\n",
       "    .dataframe tbody tr th {\n",
       "        vertical-align: top;\n",
       "    }\n",
       "\n",
       "    .dataframe thead th {\n",
       "        text-align: right;\n",
       "    }\n",
       "</style>\n",
       "<table border=\"1\" class=\"dataframe\">\n",
       "  <thead>\n",
       "    <tr style=\"text-align: right;\">\n",
       "      <th></th>\n",
       "      <th>PassengerId</th>\n",
       "      <th>HomePlanet</th>\n",
       "      <th>CryoSleep</th>\n",
       "      <th>Cabin</th>\n",
       "      <th>Destination</th>\n",
       "      <th>Age</th>\n",
       "      <th>VIP</th>\n",
       "      <th>RoomService</th>\n",
       "      <th>FoodCourt</th>\n",
       "      <th>ShoppingMall</th>\n",
       "      <th>Spa</th>\n",
       "      <th>VRDeck</th>\n",
       "      <th>Name</th>\n",
       "    </tr>\n",
       "  </thead>\n",
       "  <tbody>\n",
       "    <tr>\n",
       "      <th>0</th>\n",
       "      <td>0013_01</td>\n",
       "      <td>Earth</td>\n",
       "      <td>True</td>\n",
       "      <td>G/3/S</td>\n",
       "      <td>TRAPPIST-1e</td>\n",
       "      <td>27.0</td>\n",
       "      <td>False</td>\n",
       "      <td>0.0</td>\n",
       "      <td>0.0</td>\n",
       "      <td>0.0</td>\n",
       "      <td>0.0</td>\n",
       "      <td>0.0</td>\n",
       "      <td>Nelly Carsoning</td>\n",
       "    </tr>\n",
       "    <tr>\n",
       "      <th>1</th>\n",
       "      <td>0018_01</td>\n",
       "      <td>Earth</td>\n",
       "      <td>False</td>\n",
       "      <td>F/4/S</td>\n",
       "      <td>TRAPPIST-1e</td>\n",
       "      <td>19.0</td>\n",
       "      <td>False</td>\n",
       "      <td>0.0</td>\n",
       "      <td>9.0</td>\n",
       "      <td>0.0</td>\n",
       "      <td>2823.0</td>\n",
       "      <td>0.0</td>\n",
       "      <td>Lerome Peckers</td>\n",
       "    </tr>\n",
       "    <tr>\n",
       "      <th>2</th>\n",
       "      <td>0019_01</td>\n",
       "      <td>Europa</td>\n",
       "      <td>True</td>\n",
       "      <td>C/0/S</td>\n",
       "      <td>55 Cancri e</td>\n",
       "      <td>31.0</td>\n",
       "      <td>False</td>\n",
       "      <td>0.0</td>\n",
       "      <td>0.0</td>\n",
       "      <td>0.0</td>\n",
       "      <td>0.0</td>\n",
       "      <td>0.0</td>\n",
       "      <td>Sabih Unhearfus</td>\n",
       "    </tr>\n",
       "    <tr>\n",
       "      <th>3</th>\n",
       "      <td>0021_01</td>\n",
       "      <td>Europa</td>\n",
       "      <td>False</td>\n",
       "      <td>C/1/S</td>\n",
       "      <td>TRAPPIST-1e</td>\n",
       "      <td>38.0</td>\n",
       "      <td>False</td>\n",
       "      <td>0.0</td>\n",
       "      <td>6652.0</td>\n",
       "      <td>0.0</td>\n",
       "      <td>181.0</td>\n",
       "      <td>585.0</td>\n",
       "      <td>Meratz Caltilter</td>\n",
       "    </tr>\n",
       "    <tr>\n",
       "      <th>4</th>\n",
       "      <td>0023_01</td>\n",
       "      <td>Earth</td>\n",
       "      <td>False</td>\n",
       "      <td>F/5/S</td>\n",
       "      <td>TRAPPIST-1e</td>\n",
       "      <td>20.0</td>\n",
       "      <td>False</td>\n",
       "      <td>10.0</td>\n",
       "      <td>0.0</td>\n",
       "      <td>635.0</td>\n",
       "      <td>0.0</td>\n",
       "      <td>0.0</td>\n",
       "      <td>Brence Harperez</td>\n",
       "    </tr>\n",
       "  </tbody>\n",
       "</table>\n",
       "</div>"
      ],
      "text/plain": [
       "  PassengerId HomePlanet CryoSleep  Cabin  Destination   Age    VIP  \\\n",
       "0     0013_01      Earth      True  G/3/S  TRAPPIST-1e  27.0  False   \n",
       "1     0018_01      Earth     False  F/4/S  TRAPPIST-1e  19.0  False   \n",
       "2     0019_01     Europa      True  C/0/S  55 Cancri e  31.0  False   \n",
       "3     0021_01     Europa     False  C/1/S  TRAPPIST-1e  38.0  False   \n",
       "4     0023_01      Earth     False  F/5/S  TRAPPIST-1e  20.0  False   \n",
       "\n",
       "   RoomService  FoodCourt  ShoppingMall     Spa  VRDeck              Name  \n",
       "0          0.0        0.0           0.0     0.0     0.0   Nelly Carsoning  \n",
       "1          0.0        9.0           0.0  2823.0     0.0    Lerome Peckers  \n",
       "2          0.0        0.0           0.0     0.0     0.0   Sabih Unhearfus  \n",
       "3          0.0     6652.0           0.0   181.0   585.0  Meratz Caltilter  \n",
       "4         10.0        0.0         635.0     0.0     0.0   Brence Harperez  "
      ]
     },
     "execution_count": 7,
     "metadata": {},
     "output_type": "execute_result"
    }
   ],
   "source": [
    "# con pandas, observe los primeros 5 datos del dataset de prueba\n",
    "?"
   ]
  },
  {
   "cell_type": "markdown",
   "id": "183cce18",
   "metadata": {},
   "source": [
    "Ahora hacemos un poco de analisis basico para saber cuantos datos tenemos de training y cuantos datos tenemos de test"
   ]
  },
  {
   "cell_type": "code",
   "execution_count": 8,
   "id": "b901ebe0",
   "metadata": {},
   "outputs": [
    {
     "name": "stdout",
     "output_type": "stream",
     "text": [
      "Dataset has 8693 train samples\n",
      "Dataset has 4277 test samples\n"
     ]
    }
   ],
   "source": [
    "# calcule la cantidad de filas del training set y del test set\n",
    "ntrain = ?\n",
    "ntest = ?\n",
    "\n",
    "#imprima la cantidad de datos del training set y del test set\n",
    "print(f'Dataset has {ntrain} train samples')\n",
    "print(f'Dataset has {ntest} test samples')"
   ]
  },
  {
   "cell_type": "markdown",
   "id": "ccc36c72",
   "metadata": {},
   "source": [
    "Nos interesa tambien observar el tipo de datos del dataset"
   ]
  },
  {
   "cell_type": "code",
   "execution_count": 9,
   "id": "e641ce25",
   "metadata": {},
   "outputs": [
    {
     "name": "stdout",
     "output_type": "stream",
     "text": [
      "<class 'pandas.core.frame.DataFrame'>\n",
      "RangeIndex: 8693 entries, 0 to 8692\n",
      "Data columns (total 14 columns):\n",
      " #   Column        Non-Null Count  Dtype  \n",
      "---  ------        --------------  -----  \n",
      " 0   PassengerId   8693 non-null   object \n",
      " 1   HomePlanet    8492 non-null   object \n",
      " 2   CryoSleep     8476 non-null   object \n",
      " 3   Cabin         8494 non-null   object \n",
      " 4   Destination   8511 non-null   object \n",
      " 5   Age           8514 non-null   float64\n",
      " 6   VIP           8490 non-null   object \n",
      " 7   RoomService   8512 non-null   float64\n",
      " 8   FoodCourt     8510 non-null   float64\n",
      " 9   ShoppingMall  8485 non-null   float64\n",
      " 10  Spa           8510 non-null   float64\n",
      " 11  VRDeck        8505 non-null   float64\n",
      " 12  Name          8493 non-null   object \n",
      " 13  Transported   8693 non-null   bool   \n",
      "dtypes: bool(1), float64(6), object(7)\n",
      "memory usage: 891.5+ KB\n"
     ]
    }
   ],
   "source": [
    "# con info() verifique cuales son los tipos de columnas\n",
    "?"
   ]
  },
  {
   "cell_type": "markdown",
   "id": "6b312b93",
   "metadata": {},
   "source": [
    "Revisamos tambien si poseemos valores nulos"
   ]
  },
  {
   "cell_type": "code",
   "execution_count": 10,
   "id": "809c956e",
   "metadata": {},
   "outputs": [
    {
     "data": {
      "text/plain": [
       "PassengerId       0\n",
       "HomePlanet      201\n",
       "CryoSleep       217\n",
       "Cabin           199\n",
       "Destination     182\n",
       "Age             179\n",
       "VIP             203\n",
       "RoomService     181\n",
       "FoodCourt       183\n",
       "ShoppingMall    208\n",
       "Spa             183\n",
       "VRDeck          188\n",
       "Name            200\n",
       "Transported       0\n",
       "dtype: int64"
      ]
     },
     "execution_count": 10,
     "metadata": {},
     "output_type": "execute_result"
    }
   ],
   "source": [
    "# revise si existen campos nulos en el training set con isnull y sum\n",
    "?"
   ]
  },
  {
   "cell_type": "markdown",
   "id": "3fefa2e2",
   "metadata": {},
   "source": [
    "Damos una funcion basica de imputacion de datos, este busca los datos nulos y los reemplaza por el dato mas frecuente, hay otras maneras de preprocesar datos como por valores medios, anteriores, etc."
   ]
  },
  {
   "cell_type": "code",
   "execution_count": 11,
   "id": "356fb63a",
   "metadata": {},
   "outputs": [],
   "source": [
    "# funcion que realiza los reemplazos del dato mas frecuente en la columna (imputer)\n",
    "def impute_most_frequent_data(df):\n",
    "    for column_name in df.columns:\n",
    "        data = df[column_name].value_counts().index[0]\n",
    "        df[column_name].fillna(data, inplace=True)\n",
    "    return df"
   ]
  },
  {
   "cell_type": "markdown",
   "id": "ff7639de",
   "metadata": {},
   "source": [
    "Llamamos la funcion contra el train_ds"
   ]
  },
  {
   "cell_type": "code",
   "execution_count": 12,
   "id": "895be45a",
   "metadata": {},
   "outputs": [
    {
     "data": {
      "text/html": [
       "<div>\n",
       "<style scoped>\n",
       "    .dataframe tbody tr th:only-of-type {\n",
       "        vertical-align: middle;\n",
       "    }\n",
       "\n",
       "    .dataframe tbody tr th {\n",
       "        vertical-align: top;\n",
       "    }\n",
       "\n",
       "    .dataframe thead th {\n",
       "        text-align: right;\n",
       "    }\n",
       "</style>\n",
       "<table border=\"1\" class=\"dataframe\">\n",
       "  <thead>\n",
       "    <tr style=\"text-align: right;\">\n",
       "      <th></th>\n",
       "      <th>PassengerId</th>\n",
       "      <th>HomePlanet</th>\n",
       "      <th>CryoSleep</th>\n",
       "      <th>Cabin</th>\n",
       "      <th>Destination</th>\n",
       "      <th>Age</th>\n",
       "      <th>VIP</th>\n",
       "      <th>RoomService</th>\n",
       "      <th>FoodCourt</th>\n",
       "      <th>ShoppingMall</th>\n",
       "      <th>Spa</th>\n",
       "      <th>VRDeck</th>\n",
       "      <th>Name</th>\n",
       "      <th>Transported</th>\n",
       "    </tr>\n",
       "  </thead>\n",
       "  <tbody>\n",
       "    <tr>\n",
       "      <th>0</th>\n",
       "      <td>0001_01</td>\n",
       "      <td>Europa</td>\n",
       "      <td>False</td>\n",
       "      <td>B/0/P</td>\n",
       "      <td>TRAPPIST-1e</td>\n",
       "      <td>39.0</td>\n",
       "      <td>False</td>\n",
       "      <td>0.0</td>\n",
       "      <td>0.0</td>\n",
       "      <td>0.0</td>\n",
       "      <td>0.0</td>\n",
       "      <td>0.0</td>\n",
       "      <td>Maham Ofracculy</td>\n",
       "      <td>False</td>\n",
       "    </tr>\n",
       "    <tr>\n",
       "      <th>1</th>\n",
       "      <td>0002_01</td>\n",
       "      <td>Earth</td>\n",
       "      <td>False</td>\n",
       "      <td>F/0/S</td>\n",
       "      <td>TRAPPIST-1e</td>\n",
       "      <td>24.0</td>\n",
       "      <td>False</td>\n",
       "      <td>109.0</td>\n",
       "      <td>9.0</td>\n",
       "      <td>25.0</td>\n",
       "      <td>549.0</td>\n",
       "      <td>44.0</td>\n",
       "      <td>Juanna Vines</td>\n",
       "      <td>True</td>\n",
       "    </tr>\n",
       "    <tr>\n",
       "      <th>2</th>\n",
       "      <td>0003_01</td>\n",
       "      <td>Europa</td>\n",
       "      <td>False</td>\n",
       "      <td>A/0/S</td>\n",
       "      <td>TRAPPIST-1e</td>\n",
       "      <td>58.0</td>\n",
       "      <td>True</td>\n",
       "      <td>43.0</td>\n",
       "      <td>3576.0</td>\n",
       "      <td>0.0</td>\n",
       "      <td>6715.0</td>\n",
       "      <td>49.0</td>\n",
       "      <td>Altark Susent</td>\n",
       "      <td>False</td>\n",
       "    </tr>\n",
       "    <tr>\n",
       "      <th>3</th>\n",
       "      <td>0003_02</td>\n",
       "      <td>Europa</td>\n",
       "      <td>False</td>\n",
       "      <td>A/0/S</td>\n",
       "      <td>TRAPPIST-1e</td>\n",
       "      <td>33.0</td>\n",
       "      <td>False</td>\n",
       "      <td>0.0</td>\n",
       "      <td>1283.0</td>\n",
       "      <td>371.0</td>\n",
       "      <td>3329.0</td>\n",
       "      <td>193.0</td>\n",
       "      <td>Solam Susent</td>\n",
       "      <td>False</td>\n",
       "    </tr>\n",
       "    <tr>\n",
       "      <th>4</th>\n",
       "      <td>0004_01</td>\n",
       "      <td>Earth</td>\n",
       "      <td>False</td>\n",
       "      <td>F/1/S</td>\n",
       "      <td>TRAPPIST-1e</td>\n",
       "      <td>16.0</td>\n",
       "      <td>False</td>\n",
       "      <td>303.0</td>\n",
       "      <td>70.0</td>\n",
       "      <td>151.0</td>\n",
       "      <td>565.0</td>\n",
       "      <td>2.0</td>\n",
       "      <td>Willy Santantines</td>\n",
       "      <td>True</td>\n",
       "    </tr>\n",
       "  </tbody>\n",
       "</table>\n",
       "</div>"
      ],
      "text/plain": [
       "  PassengerId HomePlanet  CryoSleep  Cabin  Destination   Age    VIP  \\\n",
       "0     0001_01     Europa      False  B/0/P  TRAPPIST-1e  39.0  False   \n",
       "1     0002_01      Earth      False  F/0/S  TRAPPIST-1e  24.0  False   \n",
       "2     0003_01     Europa      False  A/0/S  TRAPPIST-1e  58.0   True   \n",
       "3     0003_02     Europa      False  A/0/S  TRAPPIST-1e  33.0  False   \n",
       "4     0004_01      Earth      False  F/1/S  TRAPPIST-1e  16.0  False   \n",
       "\n",
       "   RoomService  FoodCourt  ShoppingMall     Spa  VRDeck               Name  \\\n",
       "0          0.0        0.0           0.0     0.0     0.0    Maham Ofracculy   \n",
       "1        109.0        9.0          25.0   549.0    44.0       Juanna Vines   \n",
       "2         43.0     3576.0           0.0  6715.0    49.0      Altark Susent   \n",
       "3          0.0     1283.0         371.0  3329.0   193.0       Solam Susent   \n",
       "4        303.0       70.0         151.0   565.0     2.0  Willy Santantines   \n",
       "\n",
       "   Transported  \n",
       "0        False  \n",
       "1         True  \n",
       "2        False  \n",
       "3        False  \n",
       "4         True  "
      ]
     },
     "execution_count": 12,
     "metadata": {},
     "output_type": "execute_result"
    }
   ],
   "source": [
    "# llame la funcion contra el training set\n",
    "train_ds = ?\n",
    "train_ds.head()"
   ]
  },
  {
   "cell_type": "markdown",
   "id": "a3303f55",
   "metadata": {},
   "source": [
    "Revisamos nuevamente si poseemos valores nulos"
   ]
  },
  {
   "cell_type": "code",
   "execution_count": 13,
   "id": "cd8d11d6",
   "metadata": {},
   "outputs": [
    {
     "data": {
      "text/plain": [
       "PassengerId     0\n",
       "HomePlanet      0\n",
       "CryoSleep       0\n",
       "Cabin           0\n",
       "Destination     0\n",
       "Age             0\n",
       "VIP             0\n",
       "RoomService     0\n",
       "FoodCourt       0\n",
       "ShoppingMall    0\n",
       "Spa             0\n",
       "VRDeck          0\n",
       "Name            0\n",
       "Transported     0\n",
       "dtype: int64"
      ]
     },
     "execution_count": 13,
     "metadata": {},
     "output_type": "execute_result"
    }
   ],
   "source": [
    "# valide nuevamente si existen campos nulos\n",
    "?"
   ]
  },
  {
   "cell_type": "markdown",
   "id": "a1224b3d",
   "metadata": {},
   "source": [
    "Agrupamos por las columnas 'HomePlanet' y 'VIP' y realizamos la suma de los datos para saber la frecuencia"
   ]
  },
  {
   "cell_type": "code",
   "execution_count": 14,
   "id": "13677ec7",
   "metadata": {},
   "outputs": [
    {
     "data": {
      "text/plain": [
       "HomePlanet\n",
       "Earth       5\n",
       "Europa    131\n",
       "Mars       63\n",
       "Name: VIP, dtype: int64"
      ]
     },
     "execution_count": 14,
     "metadata": {},
     "output_type": "execute_result"
    }
   ],
   "source": [
    "# Agrupe por planeta y adquiera la columna VIP\n",
    "home_planet_vs_vip = train_ds.groupby(?)[?].sum()\n",
    "home_planet_vs_vip"
   ]
  },
  {
   "cell_type": "markdown",
   "id": "38c96caf",
   "metadata": {},
   "source": [
    "Realizamos una visualziación básica de gráfico de barras para ver los datos anteriores de una manera mas manejable"
   ]
  },
  {
   "cell_type": "code",
   "execution_count": 15,
   "id": "97f75a77",
   "metadata": {},
   "outputs": [
    {
     "name": "stderr",
     "output_type": "stream",
     "text": [
      "<ipython-input-15-f7423a54b47f>:11: UserWarning: FixedFormatter should only be used together with FixedLocator\n",
      "  ax.set_xticklabels(home_planet_vs_vip.index, rotation=45)\n"
     ]
    },
    {
     "data": {
      "image/png": "[encoded data removed]",
      "text/plain": [
       "<Figure size 432x288 with 1 Axes>"
      ]
     },
     "metadata": {
      "needs_background": "light"
     },
     "output_type": "display_data"
    }
   ],
   "source": [
    "# Genere un grafico de barras donde\n",
    "# x = 'HomePlanet'\n",
    "# y = cantidade de personas que fueron VIP\n",
    "# rote los labels a 45°\n",
    "\n",
    "%matplotlib inline\n",
    "import matplotlib.pyplot as plt\n",
    "\n",
    "fig, ax = plt.subplots()\n",
    "ax.bar(?, ?)\n",
    "ax.set_xticklabels(home_planet_vs_vip.index, rotation=?)\n",
    "ax.set_ylabel(\"How many of Each Planet are VIP people\")\n",
    "plt.show()"
   ]
  },
  {
   "cell_type": "markdown",
   "id": "058dfa54",
   "metadata": {},
   "source": [
    "Agrupamos por edad y tambien todas las columnas numericas, sumamos para saber cuanto gastaron por rango de edad"
   ]
  },
  {
   "cell_type": "code",
   "execution_count": 16,
   "id": "f564b202",
   "metadata": {},
   "outputs": [
    {
     "name": "stderr",
     "output_type": "stream",
     "text": [
      "<ipython-input-16-1b96927bf1e7>:2: FutureWarning: Indexing with multiple keys (implicitly converted to a tuple of keys) will be deprecated, use a list instead.\n",
      "  age_vs_moneyspent = train_ds.groupby('Age')['RoomService','FoodCourt', 'ShoppingMall', 'Spa', 'VRDeck'].sum()\n"
     ]
    },
    {
     "data": {
      "text/html": [
       "<div>\n",
       "<style scoped>\n",
       "    .dataframe tbody tr th:only-of-type {\n",
       "        vertical-align: middle;\n",
       "    }\n",
       "\n",
       "    .dataframe tbody tr th {\n",
       "        vertical-align: top;\n",
       "    }\n",
       "\n",
       "    .dataframe thead th {\n",
       "        text-align: right;\n",
       "    }\n",
       "</style>\n",
       "<table border=\"1\" class=\"dataframe\">\n",
       "  <thead>\n",
       "    <tr style=\"text-align: right;\">\n",
       "      <th></th>\n",
       "      <th>RoomService</th>\n",
       "      <th>FoodCourt</th>\n",
       "      <th>ShoppingMall</th>\n",
       "      <th>Spa</th>\n",
       "      <th>VRDeck</th>\n",
       "    </tr>\n",
       "    <tr>\n",
       "      <th>Age</th>\n",
       "      <th></th>\n",
       "      <th></th>\n",
       "      <th></th>\n",
       "      <th></th>\n",
       "      <th></th>\n",
       "    </tr>\n",
       "  </thead>\n",
       "  <tbody>\n",
       "    <tr>\n",
       "      <th>0.0</th>\n",
       "      <td>0.0</td>\n",
       "      <td>0.0</td>\n",
       "      <td>0.0</td>\n",
       "      <td>0.0</td>\n",
       "      <td>0.0</td>\n",
       "    </tr>\n",
       "    <tr>\n",
       "      <th>1.0</th>\n",
       "      <td>0.0</td>\n",
       "      <td>0.0</td>\n",
       "      <td>0.0</td>\n",
       "      <td>0.0</td>\n",
       "      <td>0.0</td>\n",
       "    </tr>\n",
       "    <tr>\n",
       "      <th>2.0</th>\n",
       "      <td>0.0</td>\n",
       "      <td>0.0</td>\n",
       "      <td>0.0</td>\n",
       "      <td>0.0</td>\n",
       "      <td>0.0</td>\n",
       "    </tr>\n",
       "    <tr>\n",
       "      <th>3.0</th>\n",
       "      <td>0.0</td>\n",
       "      <td>0.0</td>\n",
       "      <td>0.0</td>\n",
       "      <td>0.0</td>\n",
       "      <td>0.0</td>\n",
       "    </tr>\n",
       "    <tr>\n",
       "      <th>4.0</th>\n",
       "      <td>0.0</td>\n",
       "      <td>0.0</td>\n",
       "      <td>0.0</td>\n",
       "      <td>0.0</td>\n",
       "      <td>0.0</td>\n",
       "    </tr>\n",
       "    <tr>\n",
       "      <th>...</th>\n",
       "      <td>...</td>\n",
       "      <td>...</td>\n",
       "      <td>...</td>\n",
       "      <td>...</td>\n",
       "      <td>...</td>\n",
       "    </tr>\n",
       "    <tr>\n",
       "      <th>75.0</th>\n",
       "      <td>0.0</td>\n",
       "      <td>493.0</td>\n",
       "      <td>1224.0</td>\n",
       "      <td>131.0</td>\n",
       "      <td>1901.0</td>\n",
       "    </tr>\n",
       "    <tr>\n",
       "      <th>76.0</th>\n",
       "      <td>0.0</td>\n",
       "      <td>2732.0</td>\n",
       "      <td>422.0</td>\n",
       "      <td>16594.0</td>\n",
       "      <td>330.0</td>\n",
       "    </tr>\n",
       "    <tr>\n",
       "      <th>77.0</th>\n",
       "      <td>0.0</td>\n",
       "      <td>9032.0</td>\n",
       "      <td>131.0</td>\n",
       "      <td>4109.0</td>\n",
       "      <td>1572.0</td>\n",
       "    </tr>\n",
       "    <tr>\n",
       "      <th>78.0</th>\n",
       "      <td>0.0</td>\n",
       "      <td>213.0</td>\n",
       "      <td>202.0</td>\n",
       "      <td>729.0</td>\n",
       "      <td>4.0</td>\n",
       "    </tr>\n",
       "    <tr>\n",
       "      <th>79.0</th>\n",
       "      <td>6259.0</td>\n",
       "      <td>235.0</td>\n",
       "      <td>7.0</td>\n",
       "      <td>4989.0</td>\n",
       "      <td>2182.0</td>\n",
       "    </tr>\n",
       "  </tbody>\n",
       "</table>\n",
       "<p>80 rows × 5 columns</p>\n",
       "</div>"
      ],
      "text/plain": [
       "      RoomService  FoodCourt  ShoppingMall      Spa  VRDeck\n",
       "Age                                                        \n",
       "0.0           0.0        0.0           0.0      0.0     0.0\n",
       "1.0           0.0        0.0           0.0      0.0     0.0\n",
       "2.0           0.0        0.0           0.0      0.0     0.0\n",
       "3.0           0.0        0.0           0.0      0.0     0.0\n",
       "4.0           0.0        0.0           0.0      0.0     0.0\n",
       "...           ...        ...           ...      ...     ...\n",
       "75.0          0.0      493.0        1224.0    131.0  1901.0\n",
       "76.0          0.0     2732.0         422.0  16594.0   330.0\n",
       "77.0          0.0     9032.0         131.0   4109.0  1572.0\n",
       "78.0          0.0      213.0         202.0    729.0     4.0\n",
       "79.0       6259.0      235.0           7.0   4989.0  2182.0\n",
       "\n",
       "[80 rows x 5 columns]"
      ]
     },
     "execution_count": 16,
     "metadata": {},
     "output_type": "execute_result"
    }
   ],
   "source": [
    "# agrupe por edad y sume para saber cuanto por rango de edad gastaron cada uno\n",
    "age_vs_moneyspent = ?\n",
    "age_vs_moneyspent"
   ]
  },
  {
   "cell_type": "markdown",
   "id": "6a302660",
   "metadata": {},
   "source": [
    "Realizamos un gráfico de dispersión para ver cuanto gastan por edad"
   ]
  },
  {
   "cell_type": "code",
   "execution_count": 17,
   "id": "012051c5",
   "metadata": {},
   "outputs": [
    {
     "data": {
      "image/png": "[encoded data removed]",
      "text/plain": [
       "<Figure size 720x432 with 1 Axes>"
      ]
     },
     "metadata": {
      "needs_background": "light"
     },
     "output_type": "display_data"
    }
   ],
   "source": [
    "##### Realize un gráfico de dispersion para ver la cantidad gastada por rango de edades\n",
    "fig, ax = plt.subplots(figsize=(10,6))\n",
    "for i in range(len(age_vs_moneyspent.columns)-2):\n",
    "    ax.scatter(age_vs_moneyspent.index, ?, alpha=0.8)\n",
    "    ax.legend(age_vs_moneyspent.columns)\n",
    "ax.set_xlabel(\"Age\")\n",
    "ax.set_xticks(ticks=range(0,80), minor=True)\n",
    "ax.set_ylabel(\"Quantity of Money Spent\")\n",
    "ax.grid()\n",
    "\n",
    "plt.show()"
   ]
  },
  {
   "cell_type": "markdown",
   "id": "e5f00dda",
   "metadata": {},
   "source": [
    "Realizamos un grafico de histograma para ver la distribución de destinos contra las observaciones"
   ]
  },
  {
   "cell_type": "code",
   "execution_count": 18,
   "id": "361a58ce",
   "metadata": {},
   "outputs": [
    {
     "data": {
      "image/png": "[encoded data removed]",
      "text/plain": [
       "<Figure size 432x288 with 1 Axes>"
      ]
     },
     "metadata": {
      "needs_background": "light"
     },
     "output_type": "display_data"
    }
   ],
   "source": [
    "# realice un grafico de histograma para los destinos versus las características\n",
    "fig, ax = plt.subplots()\n",
    "ax.hist(?, label=\"Destination\", color='gray')\n",
    "ax.set_xlabel(\"Features\")\n",
    "ax.set_ylabel(\"# of observations\")\n",
    "ax.legend()\n",
    "plt.show()"
   ]
  },
  {
   "cell_type": "markdown",
   "id": "8e2976d3",
   "metadata": {},
   "source": [
    "### Machine Learning"
   ]
  },
  {
   "cell_type": "markdown",
   "id": "3b2fab00",
   "metadata": {},
   "source": [
    "Realizaremos un modelo de machine learning sencillo, pero primero necesitamos componer los datos categoricos a numericos.  La mayoria de los problemas de machine learning utilizan datos numericos o boleanos para realizar sus algoritmos"
   ]
  },
  {
   "cell_type": "markdown",
   "id": "abc302ed",
   "metadata": {},
   "source": [
    "Primeramente importamos OneHotEncoder para codificar las columans"
   ]
  },
  {
   "cell_type": "code",
   "execution_count": 19,
   "id": "43fc9cdd",
   "metadata": {},
   "outputs": [],
   "source": [
    "# de sklearn la librería preprocessing importe OneHotEncoder\n",
    "from sklearn.preprocessing import OneHotEncoder"
   ]
  },
  {
   "cell_type": "markdown",
   "id": "7e619e07",
   "metadata": {},
   "source": [
    "Ayudamos a realizar una función de encoding de las columnas"
   ]
  },
  {
   "cell_type": "code",
   "execution_count": 20,
   "id": "f499e087",
   "metadata": {},
   "outputs": [],
   "source": [
    "# llame a la funcion utilizando el traning set y listando las librerías categoricas 'HomePlanet' y 'Destination'\n",
    "def column_transform(df, categorical_columns):\n",
    "    for col in categorical_columns:\n",
    "        col_ohe = pd.get_dummies(df[col], prefix=col)\n",
    "        df = pd.concat((df, col_ohe), axis=1).drop(col, axis=1)\n",
    "    return df"
   ]
  },
  {
   "cell_type": "markdown",
   "id": "eb5c914c",
   "metadata": {},
   "source": [
    "Asigne a train_ds_ohe la funcion y los datos categoricos a filtrar"
   ]
  },
  {
   "cell_type": "code",
   "execution_count": 21,
   "id": "00ce7d19",
   "metadata": {},
   "outputs": [
    {
     "data": {
      "text/html": [
       "<div>\n",
       "<style scoped>\n",
       "    .dataframe tbody tr th:only-of-type {\n",
       "        vertical-align: middle;\n",
       "    }\n",
       "\n",
       "    .dataframe tbody tr th {\n",
       "        vertical-align: top;\n",
       "    }\n",
       "\n",
       "    .dataframe thead th {\n",
       "        text-align: right;\n",
       "    }\n",
       "</style>\n",
       "<table border=\"1\" class=\"dataframe\">\n",
       "  <thead>\n",
       "    <tr style=\"text-align: right;\">\n",
       "      <th></th>\n",
       "      <th>PassengerId</th>\n",
       "      <th>CryoSleep</th>\n",
       "      <th>Cabin</th>\n",
       "      <th>Age</th>\n",
       "      <th>VIP</th>\n",
       "      <th>RoomService</th>\n",
       "      <th>FoodCourt</th>\n",
       "      <th>ShoppingMall</th>\n",
       "      <th>Spa</th>\n",
       "      <th>VRDeck</th>\n",
       "      <th>Name</th>\n",
       "      <th>Transported</th>\n",
       "      <th>HomePlanet_Earth</th>\n",
       "      <th>HomePlanet_Europa</th>\n",
       "      <th>HomePlanet_Mars</th>\n",
       "      <th>Destination_55 Cancri e</th>\n",
       "      <th>Destination_PSO J318.5-22</th>\n",
       "      <th>Destination_TRAPPIST-1e</th>\n",
       "    </tr>\n",
       "  </thead>\n",
       "  <tbody>\n",
       "    <tr>\n",
       "      <th>0</th>\n",
       "      <td>0001_01</td>\n",
       "      <td>False</td>\n",
       "      <td>B/0/P</td>\n",
       "      <td>39.0</td>\n",
       "      <td>False</td>\n",
       "      <td>0.0</td>\n",
       "      <td>0.0</td>\n",
       "      <td>0.0</td>\n",
       "      <td>0.0</td>\n",
       "      <td>0.0</td>\n",
       "      <td>Maham Ofracculy</td>\n",
       "      <td>False</td>\n",
       "      <td>0</td>\n",
       "      <td>1</td>\n",
       "      <td>0</td>\n",
       "      <td>0</td>\n",
       "      <td>0</td>\n",
       "      <td>1</td>\n",
       "    </tr>\n",
       "    <tr>\n",
       "      <th>1</th>\n",
       "      <td>0002_01</td>\n",
       "      <td>False</td>\n",
       "      <td>F/0/S</td>\n",
       "      <td>24.0</td>\n",
       "      <td>False</td>\n",
       "      <td>109.0</td>\n",
       "      <td>9.0</td>\n",
       "      <td>25.0</td>\n",
       "      <td>549.0</td>\n",
       "      <td>44.0</td>\n",
       "      <td>Juanna Vines</td>\n",
       "      <td>True</td>\n",
       "      <td>1</td>\n",
       "      <td>0</td>\n",
       "      <td>0</td>\n",
       "      <td>0</td>\n",
       "      <td>0</td>\n",
       "      <td>1</td>\n",
       "    </tr>\n",
       "    <tr>\n",
       "      <th>2</th>\n",
       "      <td>0003_01</td>\n",
       "      <td>False</td>\n",
       "      <td>A/0/S</td>\n",
       "      <td>58.0</td>\n",
       "      <td>True</td>\n",
       "      <td>43.0</td>\n",
       "      <td>3576.0</td>\n",
       "      <td>0.0</td>\n",
       "      <td>6715.0</td>\n",
       "      <td>49.0</td>\n",
       "      <td>Altark Susent</td>\n",
       "      <td>False</td>\n",
       "      <td>0</td>\n",
       "      <td>1</td>\n",
       "      <td>0</td>\n",
       "      <td>0</td>\n",
       "      <td>0</td>\n",
       "      <td>1</td>\n",
       "    </tr>\n",
       "    <tr>\n",
       "      <th>3</th>\n",
       "      <td>0003_02</td>\n",
       "      <td>False</td>\n",
       "      <td>A/0/S</td>\n",
       "      <td>33.0</td>\n",
       "      <td>False</td>\n",
       "      <td>0.0</td>\n",
       "      <td>1283.0</td>\n",
       "      <td>371.0</td>\n",
       "      <td>3329.0</td>\n",
       "      <td>193.0</td>\n",
       "      <td>Solam Susent</td>\n",
       "      <td>False</td>\n",
       "      <td>0</td>\n",
       "      <td>1</td>\n",
       "      <td>0</td>\n",
       "      <td>0</td>\n",
       "      <td>0</td>\n",
       "      <td>1</td>\n",
       "    </tr>\n",
       "    <tr>\n",
       "      <th>4</th>\n",
       "      <td>0004_01</td>\n",
       "      <td>False</td>\n",
       "      <td>F/1/S</td>\n",
       "      <td>16.0</td>\n",
       "      <td>False</td>\n",
       "      <td>303.0</td>\n",
       "      <td>70.0</td>\n",
       "      <td>151.0</td>\n",
       "      <td>565.0</td>\n",
       "      <td>2.0</td>\n",
       "      <td>Willy Santantines</td>\n",
       "      <td>True</td>\n",
       "      <td>1</td>\n",
       "      <td>0</td>\n",
       "      <td>0</td>\n",
       "      <td>0</td>\n",
       "      <td>0</td>\n",
       "      <td>1</td>\n",
       "    </tr>\n",
       "  </tbody>\n",
       "</table>\n",
       "</div>"
      ],
      "text/plain": [
       "  PassengerId  CryoSleep  Cabin   Age    VIP  RoomService  FoodCourt  \\\n",
       "0     0001_01      False  B/0/P  39.0  False          0.0        0.0   \n",
       "1     0002_01      False  F/0/S  24.0  False        109.0        9.0   \n",
       "2     0003_01      False  A/0/S  58.0   True         43.0     3576.0   \n",
       "3     0003_02      False  A/0/S  33.0  False          0.0     1283.0   \n",
       "4     0004_01      False  F/1/S  16.0  False        303.0       70.0   \n",
       "\n",
       "   ShoppingMall     Spa  VRDeck               Name  Transported  \\\n",
       "0           0.0     0.0     0.0    Maham Ofracculy        False   \n",
       "1          25.0   549.0    44.0       Juanna Vines         True   \n",
       "2           0.0  6715.0    49.0      Altark Susent        False   \n",
       "3         371.0  3329.0   193.0       Solam Susent        False   \n",
       "4         151.0   565.0     2.0  Willy Santantines         True   \n",
       "\n",
       "   HomePlanet_Earth  HomePlanet_Europa  HomePlanet_Mars  \\\n",
       "0                 0                  1                0   \n",
       "1                 1                  0                0   \n",
       "2                 0                  1                0   \n",
       "3                 0                  1                0   \n",
       "4                 1                  0                0   \n",
       "\n",
       "   Destination_55 Cancri e  Destination_PSO J318.5-22  Destination_TRAPPIST-1e  \n",
       "0                        0                          0                        1  \n",
       "1                        0                          0                        1  \n",
       "2                        0                          0                        1  \n",
       "3                        0                          0                        1  \n",
       "4                        0                          0                        1  "
      ]
     },
     "execution_count": 21,
     "metadata": {},
     "output_type": "execute_result"
    }
   ],
   "source": [
    "train_ds_ohe = column_transform(df=?, categorical_columns=[?,?])\n",
    "train_ds_ohe.head()"
   ]
  },
  {
   "cell_type": "markdown",
   "id": "2b93dbea",
   "metadata": {},
   "source": [
    "Realice la asignacion de las caracteristicas a la variable 'X' y el objetivo a encontrar a la variable 'y', en este caso son las personas transportadas"
   ]
  },
  {
   "cell_type": "code",
   "execution_count": 22,
   "id": "bcc805b4",
   "metadata": {},
   "outputs": [],
   "source": [
    "# deshagase con drop() de las columnas 'PassengerId', 'Cabin', 'Name' y 'Transported'\n",
    "# asignela a la variable X\n",
    "X = train_ds_ohe.drop(?, axis=1)\n",
    "\n",
    "# asigne del train_ds_ohe solamente la columna transported a la variable y\n",
    "y = train_ds_ohe[?]"
   ]
  },
  {
   "cell_type": "markdown",
   "id": "ab9e4dda",
   "metadata": {},
   "source": [
    "Importamos nuevas librerias necesarias y funciones"
   ]
  },
  {
   "cell_type": "code",
   "execution_count": 23,
   "id": "df02553d",
   "metadata": {},
   "outputs": [],
   "source": [
    "# de sklearn linear_model importe SGDClassifier\n",
    "from sklearn.linear_model import SGDClassifier\n",
    "# de sklearn preprocessing importe StandardScaler y make_pipeline\n",
    "from sklearn.preprocessing import StandardScaler\n",
    "from sklearn.pipeline import make_pipeline"
   ]
  },
  {
   "cell_type": "markdown",
   "id": "69826fb8",
   "metadata": {},
   "source": [
    "Realizamos un clasificador"
   ]
  },
  {
   "cell_type": "code",
   "execution_count": 24,
   "id": "eec38610",
   "metadata": {},
   "outputs": [
    {
     "data": {
      "text/plain": [
       "Pipeline(steps=[('standardscaler', StandardScaler()),\n",
       "                ('sgdclassifier', SGDClassifier())])"
      ]
     },
     "execution_count": 24,
     "metadata": {},
     "output_type": "execute_result"
    }
   ],
   "source": [
    "# llame a make_pipeline con:\n",
    "# StandardScaler()\n",
    "# SGDClassifier con max_iter=1000, tol=1e-3\n",
    "clf = make_pipeline(?,\n",
    "                    ?(max_iter=?, tol=?))\n",
    "# llame al metodo fit() del clasificador\n",
    "clf.fit(?, ?)"
   ]
  },
  {
   "cell_type": "markdown",
   "id": "64b9ce1e",
   "metadata": {},
   "source": [
    "Antes de realizar predicciones tenemos que preprocesar la entrada, lo único que no tenemso que hacer es volver a escalar la información con StandardScaler debido a que el modelo lo hace por nosotros."
   ]
  },
  {
   "cell_type": "code",
   "execution_count": 25,
   "id": "a294b4b3",
   "metadata": {},
   "outputs": [],
   "source": [
    "# funcion para preprocesar la data antes de realizar predicciones, note que no hacemos escalamientos\n",
    "def preprocess_test_set(test_df):\n",
    "    test_df = column_transform(df=test_df, categorical_columns=['HomePlanet','Destination'])\n",
    "    test_df = test_df.drop(['PassengerId', 'Cabin', 'Name'], axis=1)\n",
    "    return impute_most_frequent_data(test_df)"
   ]
  },
  {
   "cell_type": "markdown",
   "id": "5208e57a",
   "metadata": {},
   "source": [
    "Realizamos el llamado de la funcion anterior con el argumento del test dataset"
   ]
  },
  {
   "cell_type": "code",
   "execution_count": 26,
   "id": "66de3f45",
   "metadata": {},
   "outputs": [],
   "source": [
    "# llame la funcion anterior con el test dataset\n",
    "test_data = ?"
   ]
  },
  {
   "cell_type": "markdown",
   "id": "414107dc",
   "metadata": {},
   "source": [
    "Calculamos las predicciones"
   ]
  },
  {
   "cell_type": "code",
   "execution_count": 27,
   "id": "67053935",
   "metadata": {},
   "outputs": [],
   "source": [
    "# calcule las predicciones del clasificador con el metodo predict\n",
    "y_pred = ?"
   ]
  },
  {
   "cell_type": "markdown",
   "id": "2d8bbf2b",
   "metadata": {},
   "source": [
    "Ahora imprimimos de alguna manear para contar cuantas fueron predicciones o personas que llegaron al destino o no"
   ]
  },
  {
   "cell_type": "code",
   "execution_count": 28,
   "id": "bfac300d",
   "metadata": {},
   "outputs": [
    {
     "data": {
      "text/plain": [
       "True     2385\n",
       "False    1892\n",
       "dtype: int64"
      ]
     },
     "execution_count": 28,
     "metadata": {},
     "output_type": "execute_result"
    }
   ],
   "source": [
    "# transforme las predicciones en un dataframe y calcule cuantas predicciones\n",
    "# fueron pasajeros transportados y cuales no fueron transportados\n",
    "?"
   ]
  },
  {
   "cell_type": "markdown",
   "id": "81f94bab",
   "metadata": {},
   "source": [
    "Hasta este punto solo hemos visto como preprocesar la data y realizar un modelo.  \n",
    "\n",
    "Adicionalmente como preprocesar la data de salida antes de consumir a un modelo.  No hemos visto aún como guardar o recargar un modelo y también como podemos ajustarlo y tener mejores métricas.\n",
    "\n",
    "Lo anteriormente dicho lo veremos cuando estemos realizando el laboratorio 1."
   ]
  }
 ],
 "metadata": {
  "kernelspec": {
   "display_name": "Python 3",
   "language": "python",
   "name": "python3"
  },
  "language_info": {
   "codemirror_mode": {
    "name": "ipython",
    "version": 3
   },
   "file_extension": ".py",
   "mimetype": "text/x-python",
   "name": "python",
   "nbconvert_exporter": "python",
   "pygments_lexer": "ipython3",
   "version": "3.8.8"
  }
 },
 "nbformat": 4,
 "nbformat_minor": 5
}
