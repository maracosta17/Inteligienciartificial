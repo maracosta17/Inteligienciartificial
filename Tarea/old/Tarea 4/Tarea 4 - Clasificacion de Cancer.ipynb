{
 "cells": [
  {
   "cell_type": "markdown",
   "id": "86e7364c",
   "metadata": {},
   "source": [
    "### Clasificación de Cancer\n",
    "\n",
    "Ud ahora trabaja para una organización que se dedica a biomedicina, su misión es realizar un sistema de inteligencia artificial que detecte si la persona sufrirá de cancer.\n",
    "\n",
    "Utilice lo aprendido anteriormente en IA para realizar modelado y conseguir el mejor modelo utilizando este conjunto de datos.\n",
    "\n",
    "\n",
    "https://archive.ics.uci.edu/dataset/14/breast+cancer\n",
    "\n",
    "Tome la misma rúbrica anterior...\n",
    "\n",
    "\n",
    "Esta es la rubrica a seguir:\n",
    "\n",
    "- 10 pts - Documentación del proyecto\n",
    "- 20 pts - EDA e Ingenieria de Caracteristicas\n",
    "- 20 pts - modelado (al menos 3 modelos de linea base)\n",
    "- 15 pts - Ajuste de hyperparametros (del mejor modelo) \n",
    "- 10 pts - Liste de mayor a menor las caracteristicas más importantes\n",
    "- 20 pts - backtesting (del mejor modelo)\n",
    "- 5 pts - conclusiones\n",
    "\n",
    "Recuerde que debe conseguir al menos 70% en Precision o en Recall dependiendo que métrica sea la óptima a aumentar y 70% o más en ROC AUC."
   ]
  }
 ],
 "metadata": {
  "kernelspec": {
   "display_name": "Python 3",
   "language": "python",
   "name": "python3"
  },
  "language_info": {
   "codemirror_mode": {
    "name": "ipython",
    "version": 3
   },
   "file_extension": ".py",
   "mimetype": "text/x-python",
   "name": "python",
   "nbconvert_exporter": "python",
   "pygments_lexer": "ipython3",
   "version": "3.6.13"
  }
 },
 "nbformat": 4,
 "nbformat_minor": 5
}
