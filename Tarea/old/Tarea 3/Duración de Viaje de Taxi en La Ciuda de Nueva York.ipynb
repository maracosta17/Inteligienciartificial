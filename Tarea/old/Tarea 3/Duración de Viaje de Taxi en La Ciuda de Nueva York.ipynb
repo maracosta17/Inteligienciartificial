{
 "cells": [
  {
   "cell_type": "markdown",
   "id": "5dc8bf42",
   "metadata": {},
   "source": [
    "### Duración de Viaje de Taxi en Nueva York"
   ]
  },
  {
   "cell_type": "markdown",
   "id": "6ef4b294",
   "metadata": {},
   "source": [
    "Proyecto:\n",
    "\n",
    "En proyectos previos ha trabajado problemas de clasificación.  Aquí utilizará todo lo aprendidp para realizar todo el flujo de machine learning sin guía previa de que realizar paso a paso.\n",
    "\n",
    "A su disposición tiene el dataset de NY de duración de taxi. \n",
    "\n",
    "El objetivo de este proyecto es realizar un modelo que prediga cuanto durará el viaje de una persona que se desplace de un punto A a un punto B en la ciudad de Nueva York.\n",
    "\n",
    "\n",
    "Debajo listamos las variables y sus descripciones rápidas.  Note que no todas las características son necesarias para hacer un modelo, determine cuales serán las más predictivas para realizar un buen modelo de datos.\n",
    "\n",
    "- id - identificador único para cada viaje\n",
    "- vendor_id - un codigo que indica al proveedor asociado como se ha guardado el viaje\n",
    "- pickup_datetime - fecha y tiempo desde en donde el taximetro empieza a contar \n",
    "- dropoff_datetime - fecha y tiempo final del taximetro donde deja de contar (finaliza el tiempo de viaje)\n",
    "- passenger_count - el numero de pasajeros en el vehiculo (valor inscrito por el conductor)\n",
    "- pickup_longitude - la longitud geografica de donde partio el vehiculo\n",
    "- pickup_latitude - la latitud geografica donde partio el vehiculo\n",
    "- dropoff_longitude - la logitud geografica de donde lo dejo el vehiculo\n",
    "- dropoff_latitude - la latitud geografica de donde lo dejo el vehiculo\n",
    "- store_and_fwd_flag - una bandera booleana que indica si el viaje fue guardado en la memoria antes de ser enviado al proveedor porque el vehiculo no tuvo conexión con el servidor (Y=salvado, N=no salvado para el viaje)\n",
    "\n",
    "- trip_duration - objetivo - variable objetivo que dice en segundos cuanto duro el viaje\n",
    "\n",
    "El dataset está provisionado en este mismo folder donde se encuentra este documento"
   ]
  },
  {
   "cell_type": "markdown",
   "id": "21641827",
   "metadata": {},
   "source": [
    "<img src=\"doc/taxi.jpg\" width='50%'>"
   ]
  },
  {
   "cell_type": "markdown",
   "id": "ac6087ad",
   "metadata": {},
   "source": [
    "En el siguiente proyecto ud realizará los siguientes pasos sin ninguna guía.  Favor ser ordenado y documentar cada sección con al menos un titulo y lo que va realizando.\n",
    "\n",
    "Esta es la rubrica a seguir:\n",
    "\n",
    "- 10 pts - Documentación del proyecto\n",
    "- 20 pts - EDA e Ingenieria de Caracteristicas\n",
    "- 20 pts - modelado (al menos 3 modelos de linea base)\n",
    "- 15 pts - Ajuste de hyperparametros (del mejor modelo) \n",
    "- 10 pts - Liste de mayor a menor las caracteristicas más importantes\n",
    "- 20 pts - backtesting (del mejor modelo)\n",
    "- 5 pts - conclusiones\n",
    "\n",
    "NOTA: Utilice de métricas para el problema RMSE y MSE"
   ]
  },
  {
   "cell_type": "code",
   "execution_count": null,
   "id": "7c80d5bf",
   "metadata": {},
   "outputs": [],
   "source": []
  }
 ],
 "metadata": {
  "kernelspec": {
   "display_name": "Python 3",
   "language": "python",
   "name": "python3"
  },
  "language_info": {
   "codemirror_mode": {
    "name": "ipython",
    "version": 3
   },
   "file_extension": ".py",
   "mimetype": "text/x-python",
   "name": "python",
   "nbconvert_exporter": "python",
   "pygments_lexer": "ipython3",
   "version": "3.6.13"
  }
 },
 "nbformat": 4,
 "nbformat_minor": 5
}
